{
 "cells": [
  {
   "cell_type": "code",
   "execution_count": 5,
   "metadata": {},
   "outputs": [],
   "source": [
    "import pandas as pd\n",
    "import numpy as np"
   ]
  },
  {
   "cell_type": "markdown",
   "metadata": {},
   "source": [
    "## Steps diagrahm in data science\n",
    "\n",
    "- collect data \n",
    "- prepare data \n",
    "- data analyzing \n",
    "- build model\n",
    "- evalute model \n",
    "- visualize the result\n",
    "\n",
    "\n",
    " why we need a model\n",
    " \n",
    " #\n",
    " - higher quality data\n",
    " - Increased internal communication about data and data processes\n",
    " - Reduced development and maintenance cost\n",
    " - improved performance\n",
    " \n",
    " \n",
    " models for different problem\n",
    " \n",
    " - classification problem\n",
    " - regression problem\n",
    " - clustering problem \n",
    " \n",
    " classification  - is the process of predicting the class of given data points\n",
    " - like emails with spam \n",
    " - weather information\n",
    " \n",
    "  classification models\n",
    " - naive bayes \n",
    " - support vector machine\n",
    " \n",
    " How Naive Bayes Model works\n",
    " - conditional Probability\n",
    " - dependent events\n",
    " - independent events\n",
    "  by Thomas Bayes\n",
    "  \n",
    " ** ways is by probability  P( B|A) = P(A and B) / P(A)\n",
    " conditional probability\n",
    " \n",
    " \n",
    " and independent events\n",
    " \n",
    " Events A and B are independent if the equation P(A∩B) = P(A) · P(B) holds true.\n",
    " \n",
    " \n",
    " \n",
    " \n",
    " \n",
    " \n",
    " \n",
    " \n",
    " \n",
    " \n",
    " \n",
    " \n",
    "  \n",
    "  \n",
    " Excercise:\n",
    " 2/5 = 1/4\n",
    " 3/5  = 2/4\n",
    " \n",
    " \n",
    " \n"
   ]
  },
  {
   "cell_type": "code",
   "execution_count": null,
   "metadata": {},
   "outputs": [],
   "source": [
    "import sklearn\n",
    "import sklearn."
   ]
  }
 ],
 "metadata": {
  "kernelspec": {
   "display_name": "Python 3",
   "language": "python",
   "name": "python3"
  },
  "language_info": {
   "codemirror_mode": {
    "name": "ipython",
    "version": 3
   },
   "file_extension": ".py",
   "mimetype": "text/x-python",
   "name": "python",
   "nbconvert_exporter": "python",
   "pygments_lexer": "ipython3",
   "version": "3.8.5"
  }
 },
 "nbformat": 4,
 "nbformat_minor": 4
}
