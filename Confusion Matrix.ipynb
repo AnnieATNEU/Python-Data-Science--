{
 "cells": [
  {
   "cell_type": "markdown",
   "metadata": {},
   "source": [
    "Accuracy= no. of  correct predictions/ total no. of predictions  or , tp +Tn/ tp+tn+fp+fn\n",
    "\n",
    "recall= tp/ tp +fn\n",
    "\n",
    "specificity= tn/tn+fp\n",
    "\n",
    "f1 score = 2 *(precision \n",
    "               \n",
    "               "
   ]
  },
  {
   "cell_type": "code",
   "execution_count": 9,
   "metadata": {},
   "outputs": [],
   "source": [
    "from sklearn.metrics import confusion_matrix\n",
    "from sklearn.metrics import classification_report"
   ]
  },
  {
   "cell_type": "markdown",
   "metadata": {},
   "source": [
    "cancer , has cancer or not"
   ]
  },
  {
   "cell_type": "code",
   "execution_count": 10,
   "metadata": {},
   "outputs": [],
   "source": [
    "#actual values\n",
    "actual= [1,0,0,1,0,0,1,0,0,1]\n",
    "\n",
    "#predicted values\n",
    "predicted= [1,0,0,1,0,0,0,1,0,0]"
   ]
  },
  {
   "cell_type": "code",
   "execution_count": 11,
   "metadata": {},
   "outputs": [
    {
     "name": "stdout",
     "output_type": "stream",
     "text": [
      "Confusion matrix : \n",
      " [[2 2]\n",
      " [1 5]]\n"
     ]
    }
   ],
   "source": [
    "#confusion matrix\n",
    "matrix = confusion_matrix(actual,predicted,labels=[1,0])\n",
    "print('Confusion matrix : \\n', matrix)"
   ]
  },
  {
   "cell_type": "code",
   "execution_count": 13,
   "metadata": {},
   "outputs": [
    {
     "name": "stdout",
     "output_type": "stream",
     "text": [
      "Outcome values : \n",
      " 2 2 1 5\n"
     ]
    }
   ],
   "source": [
    "##outcome values order in sklearn\n",
    "tp, fn,fp,tn = confusion_matrix(actual,predicted,labels=[1,0]).reshape(-1)\n",
    "print ('Outcome values : \\n', tp, fn, fp, tn)"
   ]
  },
  {
   "cell_type": "code",
   "execution_count": 14,
   "metadata": {},
   "outputs": [
    {
     "name": "stdout",
     "output_type": "stream",
     "text": [
      "Classification report : \n",
      "               precision    recall  f1-score   support\n",
      "\n",
      "           1       0.67      0.50      0.57         4\n",
      "           0       0.71      0.83      0.77         6\n",
      "\n",
      "    accuracy                           0.70        10\n",
      "   macro avg       0.69      0.67      0.67        10\n",
      "weighted avg       0.70      0.70      0.69        10\n",
      "\n"
     ]
    }
   ],
   "source": [
    "#classification report for precision, recall f1-score and accuracy\n",
    "matrix = classification_report(actual,predicted,labels=[1,0])\n",
    "print('Classification report : \\n', matrix)"
   ]
  },
  {
   "cell_type": "code",
   "execution_count": null,
   "metadata": {},
   "outputs": [],
   "source": []
  },
  {
   "cell_type": "code",
   "execution_count": null,
   "metadata": {},
   "outputs": [],
   "source": []
  }
 ],
 "metadata": {
  "kernelspec": {
   "display_name": "Python 3",
   "language": "python",
   "name": "python3"
  },
  "language_info": {
   "codemirror_mode": {
    "name": "ipython",
    "version": 3
   },
   "file_extension": ".py",
   "mimetype": "text/x-python",
   "name": "python",
   "nbconvert_exporter": "python",
   "pygments_lexer": "ipython3",
   "version": "3.8.5"
  }
 },
 "nbformat": 4,
 "nbformat_minor": 4
}
