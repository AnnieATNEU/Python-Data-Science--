{
 "cells": [
  {
   "cell_type": "markdown",
   "metadata": {},
   "source": [
    "# Bill"
   ]
  },
  {
   "cell_type": "code",
   "execution_count": 6,
   "metadata": {},
   "outputs": [],
   "source": [
    "#import python libraries needed\n",
    "import sqlite3\n",
    "import sqlalchemy\n",
    "from sqlalchemy import create_engine\n",
    "import pandas as pd\n",
    "import csv"
   ]
  },
  {
   "cell_type": "markdown",
   "metadata": {},
   "source": [
    "# Pre-process"
   ]
  },
  {
   "cell_type": "code",
   "execution_count": 14,
   "metadata": {
    "scrolled": true
   },
   "outputs": [
    {
     "data": {
      "text/html": [
       "<div>\n",
       "<style scoped>\n",
       "    .dataframe tbody tr th:only-of-type {\n",
       "        vertical-align: middle;\n",
       "    }\n",
       "\n",
       "    .dataframe tbody tr th {\n",
       "        vertical-align: top;\n",
       "    }\n",
       "\n",
       "    .dataframe thead th {\n",
       "        text-align: right;\n",
       "    }\n",
       "</style>\n",
       "<table border=\"1\" class=\"dataframe\">\n",
       "  <thead>\n",
       "    <tr style=\"text-align: right;\">\n",
       "      <th></th>\n",
       "      <th>emojiname</th>\n",
       "      <th>emojigroup</th>\n",
       "      <th>sub_group</th>\n",
       "      <th>unicode</th>\n",
       "    </tr>\n",
       "    <tr>\n",
       "      <th>emoji</th>\n",
       "      <th></th>\n",
       "      <th></th>\n",
       "      <th></th>\n",
       "      <th></th>\n",
       "    </tr>\n",
       "  </thead>\n",
       "  <tbody>\n",
       "    <tr>\n",
       "      <th>😀</th>\n",
       "      <td>grinning face</td>\n",
       "      <td>Smileys &amp; Emotion</td>\n",
       "      <td>face-smiling</td>\n",
       "      <td>1F600</td>\n",
       "    </tr>\n",
       "    <tr>\n",
       "      <th>😃</th>\n",
       "      <td>grinning face with big eyes</td>\n",
       "      <td>Smileys &amp; Emotion</td>\n",
       "      <td>face-smiling</td>\n",
       "      <td>1F603</td>\n",
       "    </tr>\n",
       "    <tr>\n",
       "      <th>😄</th>\n",
       "      <td>grinning face with smiling eyes</td>\n",
       "      <td>Smileys &amp; Emotion</td>\n",
       "      <td>face-smiling</td>\n",
       "      <td>1F604</td>\n",
       "    </tr>\n",
       "    <tr>\n",
       "      <th>😁</th>\n",
       "      <td>beaming face with smiling eyes</td>\n",
       "      <td>Smileys &amp; Emotion</td>\n",
       "      <td>face-smiling</td>\n",
       "      <td>1F601</td>\n",
       "    </tr>\n",
       "    <tr>\n",
       "      <th>😆</th>\n",
       "      <td>grinning squinting face</td>\n",
       "      <td>Smileys &amp; Emotion</td>\n",
       "      <td>face-smiling</td>\n",
       "      <td>1F606</td>\n",
       "    </tr>\n",
       "  </tbody>\n",
       "</table>\n",
       "</div>"
      ],
      "text/plain": [
       "                             emojiname         emojigroup     sub_group  \\\n",
       "emoji                                                                     \n",
       "😀                        grinning face  Smileys & Emotion  face-smiling   \n",
       "😃          grinning face with big eyes  Smileys & Emotion  face-smiling   \n",
       "😄      grinning face with smiling eyes  Smileys & Emotion  face-smiling   \n",
       "😁       beaming face with smiling eyes  Smileys & Emotion  face-smiling   \n",
       "😆              grinning squinting face  Smileys & Emotion  face-smiling   \n",
       "\n",
       "      unicode  \n",
       "emoji          \n",
       "😀       1F600  \n",
       "😃       1F603  \n",
       "😄       1F604  \n",
       "😁       1F601  \n",
       "😆       1F606  "
      ]
     },
     "execution_count": 14,
     "metadata": {},
     "output_type": "execute_result"
    }
   ],
   "source": [
    "#reading the csv emoji file\n",
    "df = pd.read_csv('emoji_df.csv', index_col=0)\n",
    "df2= df.rename(columns = {'name':'emojiname'})\n",
    "df2.head()"
   ]
  },
  {
   "cell_type": "code",
   "execution_count": 8,
   "metadata": {},
   "outputs": [
    {
     "data": {
      "text/plain": [
       "False"
      ]
     },
     "execution_count": 8,
     "metadata": {},
     "output_type": "execute_result"
    }
   ],
   "source": [
    "boolean =  df2[\"unicode\"].is_unique      # if there's duplicate\n",
    "boolean = df2.duplicated(subset=['unicode']).any()\n",
    "boolean"
   ]
  },
  {
   "cell_type": "code",
   "execution_count": 9,
   "metadata": {
    "scrolled": false
   },
   "outputs": [
    {
     "name": "stdout",
     "output_type": "stream",
     "text": [
      "Python keywords are...\n",
      "['False', 'None', 'True', 'and', 'as', 'assert', 'async', 'await', 'break', 'class', 'continue', 'def', 'del', 'elif', 'else', 'except', 'finally', 'for', 'from', 'global', 'if', 'import', 'in', 'is', 'lambda', 'nonlocal', 'not', 'or', 'pass', 'raise', 'return', 'try', 'while', 'with', 'yield']\n"
     ]
    }
   ],
   "source": [
    "# importing the module\n",
    "import keyword\n",
    "\n",
    "# printing the keywords\n",
    "print(\"Python keywords are...\")\n",
    "print(keyword.kwlist)"
   ]
  },
  {
   "cell_type": "code",
   "execution_count": 10,
   "metadata": {},
   "outputs": [],
   "source": [
    "  \n",
    "engine = sqlalchemy.create_engine('sqlite:///emoji_database.db')"
   ]
  },
  {
   "cell_type": "code",
   "execution_count": 11,
   "metadata": {
    "scrolled": false
   },
   "outputs": [
    {
     "data": {
      "text/plain": [
       "<sqlite3.Cursor at 0x26eca4f2ab0>"
      ]
     },
     "execution_count": 11,
     "metadata": {},
     "output_type": "execute_result"
    }
   ],
   "source": [
    "#creating table in database and its columns\n",
    "connection = sqlite3.connect('emoji_database.db')\n",
    "                                                                                  \n",
    "create_sqltable = \"\"\"CREATE TABLE IF NOT EXISTS EmojiTable(emoji VARCHAR NOT NULL,emojiname VARCHAR NOT NULL,emojigroup VARCHAR NOT NULL,sub_group VARCHAR NOT NULL,unicode VARCHAR NOT NULL)\"\"\"\n",
    "cursor = connection.cursor()\n",
    "\n",
    "cursor.execute(create_sqltable)\n"
   ]
  },
  {
   "cell_type": "markdown",
   "metadata": {},
   "source": [
    "# attached the itertuples of the pandas dataframe to insert its value to the database with columns that we created above"
   ]
  },
  {
   "cell_type": "code",
   "execution_count": null,
   "metadata": {},
   "outputs": [],
   "source": [
    "\n",
    "\n",
    "for row in df2.itertuples():\n",
    "    insert_sql = f\"INSERT INTO EmojiTable(emoji, emojiname , emojigroup, sub_group, unicode) VALUES ('{row[0]}', '{row[1]}', '{row[2]}','{row[3]}','{row[4]}')\"\n",
    "    \n",
    "    cursor.execute(insert_sql)\n",
    "    \n",
    "    #do commit after this\n",
    "connection.commit()"
   ]
  },
  {
   "cell_type": "code",
   "execution_count": 12,
   "metadata": {},
   "outputs": [
    {
     "name": "stdout",
     "output_type": "stream",
     "text": [
      "😀 grinning face Smileys & Emotion face-smiling 1F600\n",
      "😃 grinning face with big eyes Smileys & Emotion face-smiling 1F603\n",
      "😄 grinning face with smiling eyes Smileys & Emotion face-smiling 1F604\n",
      "😁 beaming face with smiling eyes Smileys & Emotion face-smiling 1F601\n",
      "😆 grinning squinting face Smileys & Emotion face-smiling 1F606\n",
      "😅 grinning face with sweat Smileys & Emotion face-smiling 1F605\n",
      "🤣 rolling on the floor laughing Smileys & Emotion face-smiling 1F923\n",
      "😂 face with tears of joy Smileys & Emotion face-smiling 1F602\n",
      "🙂 slightly smiling face Smileys & Emotion face-smiling 1F642\n",
      "🙃 upside-down face Smileys & Emotion face-smiling 1F643\n",
      "😉 winking face Smileys & Emotion face-smiling 1F609\n",
      "😊 smiling face with smiling eyes Smileys & Emotion face-smiling 1F60A\n",
      "😇 smiling face with halo Smileys & Emotion face-smiling 1F607\n",
      "🥰 smiling face with hearts Smileys & Emotion face-affection 1F970\n",
      "😍 smiling face with heart-eyes Smileys & Emotion face-affection 1F60D\n",
      "🤩 star-struck Smileys & Emotion face-affection 1F929\n",
      "😘 face blowing a kiss Smileys & Emotion face-affection 1F618\n",
      "😗 kissing face Smileys & Emotion face-affection 1F617\n",
      "☺️ smiling face Smileys & Emotion face-affection 263A FE0F\n",
      "☺ smiling face Smileys & Emotion face-affection 263A\n",
      "😚 kissing face with closed eyes Smileys & Emotion face-affection 1F61A\n",
      "😙 kissing face with smiling eyes Smileys & Emotion face-affection 1F619\n",
      "🥲 smiling face with tear Smileys & Emotion face-affection 1F972\n",
      "😋 face savoring food Smileys & Emotion face-tongue 1F60B\n",
      "😛 face with tongue Smileys & Emotion face-tongue 1F61B\n",
      "😜 winking face with tongue Smileys & Emotion face-tongue 1F61C\n",
      "🤪 zany face Smileys & Emotion face-tongue 1F92A\n",
      "😝 squinting face with tongue Smileys & Emotion face-tongue 1F61D\n",
      "🤑 money-mouth face Smileys & Emotion face-tongue 1F911\n",
      "🤗 hugging face Smileys & Emotion face-hand 1F917\n",
      "🤭 face with hand over mouth Smileys & Emotion face-hand 1F92D\n",
      "🤫 shushing face Smileys & Emotion face-hand 1F92B\n",
      "🤔 thinking face Smileys & Emotion face-hand 1F914\n",
      "🤐 zipper-mouth face Smileys & Emotion face-neutral-skeptical 1F910\n",
      "🤨 face with raised eyebrow Smileys & Emotion face-neutral-skeptical 1F928\n",
      "😐 neutral face Smileys & Emotion face-neutral-skeptical 1F610\n",
      "😑 expressionless face Smileys & Emotion face-neutral-skeptical 1F611\n",
      "😶 face without mouth Smileys & Emotion face-neutral-skeptical 1F636\n",
      "😏 smirking face Smileys & Emotion face-neutral-skeptical 1F60F\n",
      "😒 unamused face Smileys & Emotion face-neutral-skeptical 1F612\n",
      "🙄 face with rolling eyes Smileys & Emotion face-neutral-skeptical 1F644\n",
      "😬 grimacing face Smileys & Emotion face-neutral-skeptical 1F62C\n",
      "🤥 lying face Smileys & Emotion face-neutral-skeptical 1F925\n",
      "😌 relieved face Smileys & Emotion face-sleepy 1F60C\n",
      "😔 pensive face Smileys & Emotion face-sleepy 1F614\n",
      "😪 sleepy face Smileys & Emotion face-sleepy 1F62A\n",
      "🤤 drooling face Smileys & Emotion face-sleepy 1F924\n",
      "😴 sleeping face Smileys & Emotion face-sleepy 1F634\n",
      "😷 face with medical mask Smileys & Emotion face-unwell 1F637\n",
      "🤒 face with thermometer Smileys & Emotion face-unwell 1F912\n",
      "🤕 face with head-bandage Smileys & Emotion face-unwell 1F915\n",
      "🤢 nauseated face Smileys & Emotion face-unwell 1F922\n",
      "🤮 face vomiting Smileys & Emotion face-unwell 1F92E\n",
      "🤧 sneezing face Smileys & Emotion face-unwell 1F927\n",
      "🥵 hot face Smileys & Emotion face-unwell 1F975\n",
      "🥶 cold face Smileys & Emotion face-unwell 1F976\n",
      "🥴 woozy face Smileys & Emotion face-unwell 1F974\n",
      "😵 dizzy face Smileys & Emotion face-unwell 1F635\n",
      "🤯 exploding head Smileys & Emotion face-unwell 1F92F\n",
      "🤠 cowboy hat face Smileys & Emotion face-hat 1F920\n",
      "🥳 partying face Smileys & Emotion face-hat 1F973\n",
      "🥸 disguised face Smileys & Emotion face-hat 1F978\n",
      "😎 smiling face with sunglasses Smileys & Emotion face-glasses 1F60E\n",
      "🤓 nerd face Smileys & Emotion face-glasses 1F913\n",
      "🧐 face with monocle Smileys & Emotion face-glasses 1F9D0\n",
      "😕 confused face Smileys & Emotion face-concerned 1F615\n",
      "😟 worried face Smileys & Emotion face-concerned 1F61F\n",
      "🙁 slightly frowning face Smileys & Emotion face-concerned 1F641\n",
      "☹️ frowning face Smileys & Emotion face-concerned 2639 FE0F\n",
      "☹ frowning face Smileys & Emotion face-concerned 2639\n",
      "😮 face with open mouth Smileys & Emotion face-concerned 1F62E\n",
      "😯 hushed face Smileys & Emotion face-concerned 1F62F\n",
      "😲 astonished face Smileys & Emotion face-concerned 1F632\n",
      "😳 flushed face Smileys & Emotion face-concerned 1F633\n",
      "🥺 pleading face Smileys & Emotion face-concerned 1F97A\n",
      "😦 frowning face with open mouth Smileys & Emotion face-concerned 1F626\n",
      "😧 anguished face Smileys & Emotion face-concerned 1F627\n",
      "😨 fearful face Smileys & Emotion face-concerned 1F628\n",
      "😰 anxious face with sweat Smileys & Emotion face-concerned 1F630\n",
      "😥 sad but relieved face Smileys & Emotion face-concerned 1F625\n",
      "😢 crying face Smileys & Emotion face-concerned 1F622\n",
      "😭 loudly crying face Smileys & Emotion face-concerned 1F62D\n",
      "😱 face screaming in fear Smileys & Emotion face-concerned 1F631\n",
      "😖 confounded face Smileys & Emotion face-concerned 1F616\n",
      "😣 persevering face Smileys & Emotion face-concerned 1F623\n",
      "😞 disappointed face Smileys & Emotion face-concerned 1F61E\n",
      "😓 downcast face with sweat Smileys & Emotion face-concerned 1F613\n",
      "😩 weary face Smileys & Emotion face-concerned 1F629\n",
      "😫 tired face Smileys & Emotion face-concerned 1F62B\n",
      "🥱 yawning face Smileys & Emotion face-concerned 1F971\n",
      "😤 face with steam from nose Smileys & Emotion face-negative 1F624\n",
      "😡 pouting face Smileys & Emotion face-negative 1F621\n",
      "😠 angry face Smileys & Emotion face-negative 1F620\n",
      "🤬 face with symbols on mouth Smileys & Emotion face-negative 1F92C\n",
      "😈 smiling face with horns Smileys & Emotion face-negative 1F608\n",
      "👿 angry face with horns Smileys & Emotion face-negative 1F47F\n",
      "💀 skull Smileys & Emotion face-negative 1F480\n",
      "☠️ skull and crossbones Smileys & Emotion face-negative 2620 FE0F\n",
      "☠ skull and crossbones Smileys & Emotion face-negative 2620\n",
      "💩 pile of poo Smileys & Emotion face-costume 1F4A9\n",
      "🤡 clown face Smileys & Emotion face-costume 1F921\n",
      "👹 ogre Smileys & Emotion face-costume 1F479\n",
      "👺 goblin Smileys & Emotion face-costume 1F47A\n",
      "👻 ghost Smileys & Emotion face-costume 1F47B\n",
      "👽 alien Smileys & Emotion face-costume 1F47D\n",
      "👾 alien monster Smileys & Emotion face-costume 1F47E\n",
      "🤖 robot Smileys & Emotion face-costume 1F916\n",
      "😺 grinning cat Smileys & Emotion cat-face 1F63A\n",
      "😸 grinning cat with smiling eyes Smileys & Emotion cat-face 1F638\n",
      "😹 cat with tears of joy Smileys & Emotion cat-face 1F639\n",
      "😻 smiling cat with heart-eyes Smileys & Emotion cat-face 1F63B\n",
      "😼 cat with wry smile Smileys & Emotion cat-face 1F63C\n",
      "😽 kissing cat Smileys & Emotion cat-face 1F63D\n",
      "🙀 weary cat Smileys & Emotion cat-face 1F640\n",
      "😿 crying cat Smileys & Emotion cat-face 1F63F\n",
      "😾 pouting cat Smileys & Emotion cat-face 1F63E\n",
      "🙈 see-no-evil monkey Smileys & Emotion monkey-face 1F648\n",
      "🙉 hear-no-evil monkey Smileys & Emotion monkey-face 1F649\n",
      "🙊 speak-no-evil monkey Smileys & Emotion monkey-face 1F64A\n",
      "💋 kiss mark Smileys & Emotion emotion 1F48B\n",
      "💌 love letter Smileys & Emotion emotion 1F48C\n",
      "💘 heart with arrow Smileys & Emotion emotion 1F498\n",
      "💝 heart with ribbon Smileys & Emotion emotion 1F49D\n",
      "💖 sparkling heart Smileys & Emotion emotion 1F496\n",
      "💗 growing heart Smileys & Emotion emotion 1F497\n",
      "💓 beating heart Smileys & Emotion emotion 1F493\n",
      "💞 revolving hearts Smileys & Emotion emotion 1F49E\n",
      "💕 two hearts Smileys & Emotion emotion 1F495\n",
      "💟 heart decoration Smileys & Emotion emotion 1F49F\n",
      "❣️ heart exclamation Smileys & Emotion emotion 2763 FE0F\n",
      "❣ heart exclamation Smileys & Emotion emotion 2763\n",
      "💔 broken heart Smileys & Emotion emotion 1F494\n",
      "❤️ red heart Smileys & Emotion emotion 2764 FE0F\n",
      "❤ red heart Smileys & Emotion emotion 2764\n",
      "🧡 orange heart Smileys & Emotion emotion 1F9E1\n",
      "💛 yellow heart Smileys & Emotion emotion 1F49B\n",
      "💚 green heart Smileys & Emotion emotion 1F49A\n",
      "💙 blue heart Smileys & Emotion emotion 1F499\n",
      "💜 purple heart Smileys & Emotion emotion 1F49C\n",
      "🤎 brown heart Smileys & Emotion emotion 1F90E\n",
      "🖤 black heart Smileys & Emotion emotion 1F5A4\n",
      "🤍 white heart Smileys & Emotion emotion 1F90D\n",
      "💯 hundred points Smileys & Emotion emotion 1F4AF\n",
      "💢 anger symbol Smileys & Emotion emotion 1F4A2\n",
      "💥 collision Smileys & Emotion emotion 1F4A5\n",
      "💫 dizzy Smileys & Emotion emotion 1F4AB\n",
      "💦 sweat droplets Smileys & Emotion emotion 1F4A6\n",
      "💨 dashing away Smileys & Emotion emotion 1F4A8\n",
      "🕳️ hole Smileys & Emotion emotion 1F573 FE0F\n",
      "🕳 hole Smileys & Emotion emotion 1F573\n",
      "💣 bomb Smileys & Emotion emotion 1F4A3\n",
      "💬 speech balloon Smileys & Emotion emotion 1F4AC\n",
      "👁️‍🗨️ eye in speech bubble Smileys & Emotion emotion 1F441 FE0F 200D 1F5E8 FE0F\n",
      "👁‍🗨️ eye in speech bubble Smileys & Emotion emotion 1F441 200D 1F5E8 FE0F\n",
      "👁️‍🗨 eye in speech bubble Smileys & Emotion emotion 1F441 FE0F 200D 1F5E8\n",
      "👁‍🗨 eye in speech bubble Smileys & Emotion emotion 1F441 200D 1F5E8\n",
      "🗨️ left speech bubble Smileys & Emotion emotion 1F5E8 FE0F\n",
      "🗨 left speech bubble Smileys & Emotion emotion 1F5E8\n",
      "🗯️ right anger bubble Smileys & Emotion emotion 1F5EF FE0F\n",
      "🗯 right anger bubble Smileys & Emotion emotion 1F5EF\n",
      "💭 thought balloon Smileys & Emotion emotion 1F4AD\n",
      "💤 zzz Smileys & Emotion emotion 1F4A4\n"
     ]
    }
   ],
   "source": [
    "connection = sqlite3.connect('emoji_database.db')\n",
    "                   \n",
    "cursor = connection.cursor()\n",
    "\n",
    "command1= \"\"\"SELECT * FROM EmojiTable WHERE emojigroup = \"Smileys & Emotion\" \"\"\"\n",
    "cursor.execute(command1) \n",
    "\n",
    "emojiitems = cursor.fetchall() \n",
    "            \n",
    "    #Loop through items in db\n",
    "for i in emojiitems:\n",
    "    print(*i)  #we put * so it wont print a parentheses around it\n"
   ]
  },
  {
   "cell_type": "code",
   "execution_count": null,
   "metadata": {},
   "outputs": [],
   "source": [
    "connection = sqlite3.connect('emoji_database.db')\n",
    "cursor =  connection.cursor()\n",
    "search_string = input(\"enter text\")\n",
    "\n",
    "command= \"SELECT emoji FROM EmojiTable WHERE sub_group = '\"+search_string+\"'\"\n",
    "cursor.execute(command) \n",
    "\n",
    "emojiitems = cursor.fetchall() \n",
    "\n",
    "#Loop through items in db\n",
    "for item in emojiitems:\n",
    "    print(str(*item)) "
   ]
  },
  {
   "cell_type": "code",
   "execution_count": null,
   "metadata": {},
   "outputs": [],
   "source": [
    "#2. CLDR short name method\n",
    "\n",
    "print(\"\\N{winking face}\")\n"
   ]
  },
  {
   "cell_type": "code",
   "execution_count": null,
   "metadata": {},
   "outputs": [],
   "source": [
    "import numpy as np"
   ]
  },
  {
   "cell_type": "markdown",
   "metadata": {},
   "source": [
    "# to see percentage of each existing data"
   ]
  },
  {
   "cell_type": "code",
   "execution_count": 15,
   "metadata": {
    "scrolled": true
   },
   "outputs": [
    {
     "data": {
      "text/plain": [
       "People & Body        0.597499\n",
       "Symbols              0.072373\n",
       "Objects              0.071892\n",
       "Flags                0.066122\n",
       "Travel & Places      0.063477\n",
       "Smileys & Emotion    0.038952\n",
       "Animals & Nature     0.035345\n",
       "Food & Drink         0.031498\n",
       "Activities           0.022842\n",
       "Name: emojigroup, dtype: float64"
      ]
     },
     "execution_count": 15,
     "metadata": {},
     "output_type": "execute_result"
    }
   ],
   "source": [
    "df2.emojigroup.value_counts(normalize=True)"
   ]
  },
  {
   "cell_type": "code",
   "execution_count": 16,
   "metadata": {},
   "outputs": [
    {
     "data": {
      "text/plain": [
       "People & Body        2485\n",
       "Symbols               301\n",
       "Objects               299\n",
       "Flags                 275\n",
       "Travel & Places       264\n",
       "Smileys & Emotion     162\n",
       "Animals & Nature      147\n",
       "Food & Drink          131\n",
       "Activities             95\n",
       "Name: emojigroup, dtype: int64"
      ]
     },
     "execution_count": 16,
     "metadata": {},
     "output_type": "execute_result"
    }
   ],
   "source": [
    "#counting frequencies of emojigroup\n",
    "df2.emojigroup.value_counts()"
   ]
  },
  {
   "cell_type": "code",
   "execution_count": 17,
   "metadata": {},
   "outputs": [
    {
     "data": {
      "text/plain": [
       "pandas.core.series.Series"
      ]
     },
     "execution_count": 17,
     "metadata": {},
     "output_type": "execute_result"
    }
   ],
   "source": [
    "type(df2.emojigroup.value_counts())"
   ]
  },
  {
   "cell_type": "markdown",
   "metadata": {},
   "source": [
    "# Visualizing the data"
   ]
  },
  {
   "cell_type": "code",
   "execution_count": 18,
   "metadata": {
    "scrolled": true
   },
   "outputs": [
    {
     "data": {
      "text/plain": [
       "<AxesSubplot:>"
      ]
     },
     "execution_count": 18,
     "metadata": {},
     "output_type": "execute_result"
    },
    {
     "data": {
      "image/png": "[encoded data removed]",
      "text/plain": [
       "<Figure size 432x288 with 1 Axes>"
      ]
     },
     "metadata": {
      "needs_background": "light"
     },
     "output_type": "display_data"
    }
   ],
   "source": [
    "df2.emojigroup.value_counts().plot(kind='barh')"
   ]
  },
  {
   "cell_type": "code",
   "execution_count": 22,
   "metadata": {
    "scrolled": true
   },
   "outputs": [
    {
     "data": {
      "text/plain": [
       "<AxesSubplot:ylabel='emojigroup'>"
      ]
     },
     "execution_count": 22,
     "metadata": {},
     "output_type": "execute_result"
    },
    {
     "data": {
      "image/png": "[encoded data removed]",
      "text/plain": [
       "<Figure size 432x288 with 1 Axes>"
      ]
     },
     "metadata": {},
     "output_type": "display_data"
    }
   ],
   "source": [
    "df2.emojigroup.value_counts().plot(kind='pie')"
   ]
  },
  {
   "cell_type": "code",
   "execution_count": 19,
   "metadata": {},
   "outputs": [],
   "source": [
    "from matplotlib import pyplot as plt"
   ]
  },
  {
   "cell_type": "code",
   "execution_count": 20,
   "metadata": {},
   "outputs": [],
   "source": [
    "#for using the same notebook\n",
    "%matplotlib inline"
   ]
  },
  {
   "cell_type": "code",
   "execution_count": 1,
   "metadata": {},
   "outputs": [],
   "source": [
    "# plt.xlabel('petal ')\n",
    "# plt.ylabel('petal width')"
   ]
  },
  {
   "cell_type": "code",
   "execution_count": null,
   "metadata": {},
   "outputs": [],
   "source": []
  }
 ],
 "metadata": {
  "kernelspec": {
   "display_name": "Python 3 (ipykernel)",
   "language": "python",
   "name": "python3"
  },
  "language_info": {
   "codemirror_mode": {
    "name": "ipython",
    "version": 3
   },
   "file_extension": ".py",
   "mimetype": "text/x-python",
   "name": "python",
   "nbconvert_exporter": "python",
   "pygments_lexer": "ipython3",
   "version": "3.8.5"
  }
 },
 "nbformat": 4,
 "nbformat_minor": 4
}
